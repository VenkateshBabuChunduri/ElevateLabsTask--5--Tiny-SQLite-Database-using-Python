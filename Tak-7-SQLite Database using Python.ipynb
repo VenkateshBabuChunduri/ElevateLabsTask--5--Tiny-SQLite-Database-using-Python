{
 "cells": [
  {
   "cell_type": "markdown",
   "id": "6254e8bc-d64f-4a29-8cc8-4fe44e1e63ea",
   "metadata": {},
   "source": [
    "# Import Required Libraries"
   ]
  },
  {
   "cell_type": "code",
   "execution_count": 5,
   "id": "a010c469-9701-4bc7-aaa8-27a19eade050",
   "metadata": {},
   "outputs": [],
   "source": [
    "import sqlite3\n",
    "import pandas as pd\n",
    "import matplotlib.pyplot as plt\n"
   ]
  },
  {
   "cell_type": "markdown",
   "id": "d22fb2d4-a2ae-4149-b85d-6483d437ec04",
   "metadata": {},
   "source": [
    "# Create and Connect to SQLite Database"
   ]
  },
  {
   "cell_type": "code",
   "execution_count": 7,
   "id": "4e1717ca-8b08-4628-93d2-495c75a95261",
   "metadata": {},
   "outputs": [],
   "source": [
    "# Connect to SQLite (it will create the file if it doesn't exist)\n",
    "conn = sqlite3.connect(\"sales_data.db\")\n",
    "cursor = conn.cursor()\n"
   ]
  },
  {
   "cell_type": "markdown",
   "id": "6ba13f96-584e-4c37-a028-cf016d3e3374",
   "metadata": {},
   "source": [
    " # Create Table and Insert Sample Data"
   ]
  },
  {
   "cell_type": "code",
   "execution_count": 22,
   "id": "531bbcd4-c0cc-4e1c-b011-3e477e8b7a7c",
   "metadata": {},
   "outputs": [],
   "source": [
    "# Create 'sales' table\n",
    "cursor.execute('''\n",
    "    CREATE TABLE IF NOT EXISTS sales (\n",
    "        product TEXT,\n",
    "        quantity INTEGER,\n",
    "        price REAL\n",
    "    )\n",
    "''')\n",
    "\n",
    "# Insert sample data\n",
    "sample_data = [\n",
    "    ('Apples', 10, 2.5),\n",
    "    ('Bananas', 5, 1.0),\n",
    "    ('Oranges', 8, 1.8),\n",
    "    ('Apples', 3, 2.5),\n",
    "    ('Bananas', 7, 1.0)\n",
    "]\n",
    "\n",
    "cursor.executemany('INSERT INTO sales (product, quantity, price) VALUES (?, ?, ?)', sample_data)\n",
    "conn.commit()\n"
   ]
  },
  {
   "cell_type": "markdown",
   "id": "16e783a5-0303-4b73-9bd2-145672e7bca8",
   "metadata": {},
   "source": [
    "# Run SQL Query to Summarize Sales"
   ]
  },
  {
   "cell_type": "code",
   "execution_count": 24,
   "id": "abefacd7-f228-44de-8cf8-f3aeba17cc13",
   "metadata": {},
   "outputs": [
    {
     "name": "stdout",
     "output_type": "stream",
     "text": [
      "   product  total_qty  revenue\n",
      "0   Apples         26     65.0\n",
      "1  Bananas         24     24.0\n",
      "2  Oranges         16     28.8\n"
     ]
    }
   ],
   "source": [
    "# Query to get total quantity and revenue per product\n",
    "query = '''\n",
    "    SELECT \n",
    "        product, \n",
    "        SUM(quantity) AS total_qty, \n",
    "        SUM(quantity * price) AS revenue \n",
    "    FROM sales \n",
    "    GROUP BY product\n",
    "'''\n",
    "\n",
    "# Read SQL query into DataFrame\n",
    "df = pd.read_sql_query(query, conn)\n",
    "print(df)\n"
   ]
  },
  {
   "cell_type": "markdown",
   "id": "fdb0fe3f-7570-41b9-a9ab-f7d47df903dc",
   "metadata": {},
   "source": [
    "# Plot the Bar Chart"
   ]
  },
  {
   "cell_type": "code",
   "execution_count": 26,
   "id": "ba8cd7ae-f097-486a-b780-f42aab0642cc",
   "metadata": {},
   "outputs": [
    {
     "data": {
      "image/png": "[encoded data removed]",
      "text/plain": [
       "<Figure size 640x480 with 1 Axes>"
      ]
     },
     "metadata": {},
     "output_type": "display_data"
    }
   ],
   "source": [
    "# Plotting the revenue per product\n",
    "df.plot(kind='bar', x='product', y='revenue', legend=False, color='skyblue')\n",
    "plt.title(\"Revenue by Product\")\n",
    "plt.xlabel(\"Product\")\n",
    "plt.ylabel(\"Revenue\")\n",
    "plt.tight_layout()\n",
    "plt.savefig(\"sales_chart.png\")\n",
    "plt.show()\n"
   ]
  },
  {
   "cell_type": "markdown",
   "id": "75c16df9-8071-401d-a897-1a18798f2c6f",
   "metadata": {},
   "source": [
    "# Top-selling product by revenue"
   ]
  },
  {
   "cell_type": "code",
   "execution_count": 28,
   "id": "f9b04ce7-5fa4-4807-b07b-e912089e373f",
   "metadata": {},
   "outputs": [
    {
     "name": "stdout",
     "output_type": "stream",
     "text": [
      "💡 Top Selling Product (by Revenue):\n",
      "  product  revenue\n",
      "0  Apples     65.0\n"
     ]
    }
   ],
   "source": [
    "query_top_product = '''\n",
    "    SELECT \n",
    "        product, \n",
    "        SUM(quantity * price) AS revenue \n",
    "    FROM sales \n",
    "    GROUP BY product \n",
    "    ORDER BY revenue DESC \n",
    "    LIMIT 1\n",
    "'''\n",
    "\n",
    "df_top = pd.read_sql_query(query_top_product, conn)\n",
    "print(\"💡 Top Selling Product (by Revenue):\")\n",
    "print(df_top)\n"
   ]
  },
  {
   "cell_type": "markdown",
   "id": "d0f684d1-4eaf-48f2-9a5b-0041ae94feac",
   "metadata": {},
   "source": [
    "# Total overall revenue and quantity"
   ]
  },
  {
   "cell_type": "code",
   "execution_count": 30,
   "id": "278f6f4e-fbd3-4a18-8882-149e186e62d9",
   "metadata": {
    "scrolled": true
   },
   "outputs": [
    {
     "name": "stdout",
     "output_type": "stream",
     "text": [
      "📊 Overall Sales Summary:\n",
      "   total_quantity  total_revenue\n",
      "0              66          117.8\n"
     ]
    }
   ],
   "source": [
    "query_totals = '''\n",
    "    SELECT \n",
    "        SUM(quantity) AS total_quantity, \n",
    "        SUM(quantity * price) AS total_revenue \n",
    "    FROM sales\n",
    "'''\n",
    "\n",
    "df_totals = pd.read_sql_query(query_totals, conn)\n",
    "print(\"📊 Overall Sales Summary:\")\n",
    "print(df_totals)\n"
   ]
  },
  {
   "cell_type": "markdown",
   "id": "439a34c0-2c72-4af1-8690-21f27e73c661",
   "metadata": {},
   "source": [
    "# Close the Connection"
   ]
  },
  {
   "cell_type": "code",
   "execution_count": 9,
   "id": "8e0cb365-ee38-4cef-90a5-21b52ca1f74c",
   "metadata": {},
   "outputs": [],
   "source": [
    "conn.close()"
   ]
  },
  {
   "cell_type": "markdown",
   "id": "5afc78b8-64c9-4a82-8d9f-c32ccffed7f3",
   "metadata": {},
   "source": [
    "## 📌 Project Summary – Task 7: Basic Sales Summary using SQL in Python"
   ]
  },
  {
   "cell_type": "markdown",
   "id": "ceae4984-63e1-47a4-9d32-9311f9856261",
   "metadata": {},
   "source": [
    "In this project, we used **SQLite** with **Python** to extract and summarize sales data from a small dataset. We practiced using SQL queries inside Python, loaded results using `pandas`, and visualized sales with `matplotlib`.\n",
    "\n",
    "---\n",
    "\n",
    "### ✅ Key Steps:\n",
    "- 🔹 Created a SQLite database (`sales_data.db`)\n",
    "- 🔹 Inserted sample sales data (product, quantity, price)\n",
    "- 🔹 Ran SQL queries to calculate:\n",
    "  - Total quantity and revenue per product\n",
    "  - Top-selling product by revenue\n",
    "  - Overall total sales (quantity and revenue)\n",
    "- 🔹 Loaded SQL results into pandas DataFrame\n",
    "- 🔹 Plotted a **bar chart** showing revenue by product\n",
    "\n",
    "---\n",
    "\n",
    "### 📊 Insights:\n",
    "- 🍎 **Apples** generated the highest revenue among all products, making it the top-selling item.\n",
    "- 💰 The **total revenue** from all products was **117.8**, with a **total quantity sold of  66**. \n",
    "- 📈 Visualizing sales made it easier to identify top-performing products — helpful for inventory, pricing, or marketing decisions.\n",
    "\n",
    "---\n",
    "\n",
    "### 🧰 Tools Used:\n",
    "- 🐍 Python\n",
    "- 🗃️ SQLite (`sqlite3`)\n",
    "- 📊 pandas\n",
    "- 📉 matplotlib\n",
    "\n",
    "---\n",
    "\n",
    "### 📥 Outcome:\n",
    "By completing this task, we:\n",
    "- ✅ Learned to write basic SQL queries\n",
    "- ✅ Practiced loading SQL data into Python\n",
    "- ✅ Performed simple data summaries\n",
    "- ✅ Created our first sales chart!\n",
    "\n"
   ]
  }
 ],
 "metadata": {
  "kernelspec": {
   "display_name": "Python [conda env:base] *",
   "language": "python",
   "name": "conda-base-py"
  },
  "language_info": {
   "codemirror_mode": {
    "name": "ipython",
    "version": 3
   },
   "file_extension": ".py",
   "mimetype": "text/x-python",
   "name": "python",
   "nbconvert_exporter": "python",
   "pygments_lexer": "ipython3",
   "version": "3.12.7"
  }
 },
 "nbformat": 4,
 "nbformat_minor": 5
}
